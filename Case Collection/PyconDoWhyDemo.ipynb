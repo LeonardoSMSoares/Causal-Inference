{
 "cells": [
  {
   "cell_type": "markdown",
   "id": "d0f28834-67ff-4954-8c45-d4015dfbba04",
   "metadata": {},
   "source": [
    "# Based on David Rawlinson's work\n",
    "\n",
    "Demo of DoWhy for PyCon Australia talk:\n",
    "\n",
    "https://youtu.be/ilpSZiDjdv0?si=AZMlK6JWxULD_jfW\n",
    "\n",
    "https://github.com/drawlinson/pyconau-dowhy-demo/blob/main/PyconDoWhyDemo.ipynb"
   ]
  },
  {
   "cell_type": "code",
   "execution_count": 1,
   "id": "d707e353-d37c-4683-a7ba-902c45be4267",
   "metadata": {},
   "outputs": [],
   "source": [
    "import dowhy\n",
    "import pandas as pd\n",
    "import numpy as np"
   ]
  },
  {
   "cell_type": "code",
   "execution_count": 2,
   "id": "650b821a-61ed-4171-b030-5f136c7aa17e",
   "metadata": {},
   "outputs": [],
   "source": [
    "from IPython.display import Image, display\n",
    "from io import StringIO, BytesIO   \n",
    "import pydot\n",
    "import matplotlib.pyplot as plt"
   ]
  },
  {
   "cell_type": "code",
   "execution_count": 3,
   "id": "abcf3e29-40fb-4070-9582-f6a32ebd1b7d",
   "metadata": {},
   "outputs": [],
   "source": [
    "import warnings\n",
    "warnings.filterwarnings(\"ignore\")"
   ]
  },
  {
   "cell_type": "markdown",
   "id": "0a812929-bfb3-4de8-a296-db07cab2f957",
   "metadata": {},
   "source": [
    "# Dataset\n",
    "\n",
    "#### NSW Experimental Group – Individuals randomly assigned to a job training program in the 1970s.\n",
    "\n",
    "This is also the time to do any preprocessing of the data, and / or create variables derived from columns (e.g. mapping categorical data encoded as numbers to indicator variables)."
   ]
  },
  {
   "cell_type": "code",
   "execution_count": 4,
   "id": "23cc3f69-eeec-4b02-b451-879200e4b12e",
   "metadata": {},
   "outputs": [
    {
     "data": {
      "text/html": [
       "<div>\n",
       "<style scoped>\n",
       "    .dataframe tbody tr th:only-of-type {\n",
       "        vertical-align: middle;\n",
       "    }\n",
       "\n",
       "    .dataframe tbody tr th {\n",
       "        vertical-align: top;\n",
       "    }\n",
       "\n",
       "    .dataframe thead th {\n",
       "        text-align: right;\n",
       "    }\n",
       "</style>\n",
       "<table border=\"1\" class=\"dataframe\">\n",
       "  <thead>\n",
       "    <tr style=\"text-align: right;\">\n",
       "      <th></th>\n",
       "      <th>ID</th>\n",
       "      <th>Training</th>\n",
       "      <th>Age</th>\n",
       "      <th>Education_years</th>\n",
       "      <th>Married</th>\n",
       "      <th>No_Degree</th>\n",
       "      <th>Wage_1974</th>\n",
       "      <th>Wage_1975</th>\n",
       "      <th>Wage_1978</th>\n",
       "    </tr>\n",
       "  </thead>\n",
       "  <tbody>\n",
       "    <tr>\n",
       "      <th>0</th>\n",
       "      <td>0</td>\n",
       "      <td>False</td>\n",
       "      <td>23</td>\n",
       "      <td>10</td>\n",
       "      <td>0</td>\n",
       "      <td>1</td>\n",
       "      <td>0.0</td>\n",
       "      <td>0.0</td>\n",
       "      <td>0.00</td>\n",
       "    </tr>\n",
       "    <tr>\n",
       "      <th>1</th>\n",
       "      <td>1</td>\n",
       "      <td>False</td>\n",
       "      <td>26</td>\n",
       "      <td>12</td>\n",
       "      <td>0</td>\n",
       "      <td>0</td>\n",
       "      <td>0.0</td>\n",
       "      <td>0.0</td>\n",
       "      <td>12383.68</td>\n",
       "    </tr>\n",
       "    <tr>\n",
       "      <th>2</th>\n",
       "      <td>2</td>\n",
       "      <td>False</td>\n",
       "      <td>22</td>\n",
       "      <td>9</td>\n",
       "      <td>0</td>\n",
       "      <td>1</td>\n",
       "      <td>0.0</td>\n",
       "      <td>0.0</td>\n",
       "      <td>0.00</td>\n",
       "    </tr>\n",
       "    <tr>\n",
       "      <th>3</th>\n",
       "      <td>3</td>\n",
       "      <td>False</td>\n",
       "      <td>18</td>\n",
       "      <td>9</td>\n",
       "      <td>0</td>\n",
       "      <td>1</td>\n",
       "      <td>0.0</td>\n",
       "      <td>0.0</td>\n",
       "      <td>10740.08</td>\n",
       "    </tr>\n",
       "    <tr>\n",
       "      <th>4</th>\n",
       "      <td>4</td>\n",
       "      <td>False</td>\n",
       "      <td>45</td>\n",
       "      <td>11</td>\n",
       "      <td>0</td>\n",
       "      <td>1</td>\n",
       "      <td>0.0</td>\n",
       "      <td>0.0</td>\n",
       "      <td>11796.47</td>\n",
       "    </tr>\n",
       "  </tbody>\n",
       "</table>\n",
       "</div>"
      ],
      "text/plain": [
       "   ID  Training  Age  Education_years  Married  No_Degree  Wage_1974  \\\n",
       "0   0     False   23               10        0          1        0.0   \n",
       "1   1     False   26               12        0          0        0.0   \n",
       "2   2     False   22                9        0          1        0.0   \n",
       "3   3     False   18                9        0          1        0.0   \n",
       "4   4     False   45               11        0          1        0.0   \n",
       "\n",
       "   Wage_1975  Wage_1978  \n",
       "0        0.0       0.00  \n",
       "1        0.0   12383.68  \n",
       "2        0.0       0.00  \n",
       "3        0.0   10740.08  \n",
       "4        0.0   11796.47  "
      ]
     },
     "execution_count": 4,
     "metadata": {},
     "output_type": "execute_result"
    }
   ],
   "source": [
    "url = 'https://raw.githubusercontent.com/drawlinson/pyconau-dowhy-demo/refs/heads/main/lalonde.csv'\n",
    "dataset = pd.read_csv(url)\n",
    "dataset.head(5)"
   ]
  },
  {
   "cell_type": "code",
   "execution_count": 5,
   "id": "4477b983-4361-42b2-b9f1-02632cc233f8",
   "metadata": {},
   "outputs": [
    {
     "name": "stdout",
     "output_type": "stream",
     "text": [
      "<class 'pandas.core.frame.DataFrame'>\n",
      "RangeIndex: 445 entries, 0 to 444\n",
      "Data columns (total 9 columns):\n",
      " #   Column           Non-Null Count  Dtype  \n",
      "---  ------           --------------  -----  \n",
      " 0   ID               445 non-null    int64  \n",
      " 1   Training         445 non-null    bool   \n",
      " 2   Age              445 non-null    int64  \n",
      " 3   Education_years  445 non-null    int64  \n",
      " 4   Married          445 non-null    int64  \n",
      " 5   No_Degree        445 non-null    int64  \n",
      " 6   Wage_1974        445 non-null    float64\n",
      " 7   Wage_1975        445 non-null    float64\n",
      " 8   Wage_1978        445 non-null    float64\n",
      "dtypes: bool(1), float64(3), int64(5)\n",
      "memory usage: 28.4 KB\n"
     ]
    }
   ],
   "source": [
    "dataset.info()"
   ]
  },
  {
   "cell_type": "markdown",
   "id": "eceb95d7-5f6a-4dd5-b500-27eed6795b57",
   "metadata": {},
   "source": [
    "# Causal Model structure\n",
    "In Causal Inference, we rely on prior knowledge of causal model structure. This can be provided in various forms, \n",
    "but in DoWhy, we must define a **DAG** (Directed Acyclic Graph). \n",
    "A **Graph** is a network of **Nodes** (aka vertices) and **Edges** between them.\n",
    "**Directed** means each edge has a direction, from the cause, to the effect. \n",
    "**Acyclic** means the graph must not have cycles (loops). \n",
    "In this case, the Nodes are the columns in the data file, and are also known as **Variables**. \n",
    "We must define the edges here as a string; if your graph is complex you can use the graphical editor [CausalWizard.app](https://CausalWizard.app). "
   ]
  },
  {
   "cell_type": "code",
   "execution_count": 6,
   "id": "31ea4d31-46cf-465c-96e5-322d479da51e",
   "metadata": {},
   "outputs": [],
   "source": [
    "g = \"\"\"digraph {\n",
    "\n",
    "Training;\n",
    "No_Degree;\n",
    "Age;\n",
    "Education_years;\n",
    "Married;\n",
    "Wage_1974;\n",
    "Wage_1978;\n",
    "\n",
    "Training -> Wage_1978;\n",
    "\n",
    "Wage_1974 -> Training;\n",
    "No_Degree -> Training;\n",
    "Education_years -> Training;\n",
    "Married -> Training;\n",
    "\n",
    "Wage_1974 -> Wage_1978;\n",
    "No_Degree -> Wage_1978;\n",
    "Education_years -> Wage_1978;\n",
    "Married -> Wage_1978;\n",
    "\n",
    "Age -> Wage_1978;\n",
    "\n",
    "}\"\"\""
   ]
  },
  {
   "cell_type": "markdown",
   "id": "77b3038c-996a-4e99-bc6d-9df678f1a91b",
   "metadata": {},
   "source": [
    "# DoWhy Step 1/4: Create Causal Model"
   ]
  },
  {
   "cell_type": "code",
   "execution_count": 7,
   "id": "62572057-3411-414b-8769-9243e43c7629",
   "metadata": {},
   "outputs": [],
   "source": [
    "from dowhy import CausalModel                        \n",
    "from IPython.display import Image, display          \n",
    "import pydot                                        \n",
    "from io import BytesIO "
   ]
  },
  {
   "cell_type": "code",
   "execution_count": 8,
   "id": "55e78014-c8ab-4d5b-830e-f3354e026682",
   "metadata": {},
   "outputs": [
    {
     "data": {
      "image/png": "[encoded data removed]",
      "text/plain": [
       "<IPython.core.display.Image object>"
      ]
     },
     "metadata": {},
     "output_type": "display_data"
    }
   ],
   "source": [
    "# Define treatment and outcome\n",
    "treatment_col = 'Training'                           # Treatment variable\n",
    "outcome_col = 'Wage_1978'                            # Outcome variable\n",
    "\n",
    "# Create causal model WITHOUT the graph\n",
    "model = CausalModel(                                 # Create a causal model instance\n",
    "    data=dataset,                                    # Use the dataset (DataFrame) as input\n",
    "    treatment=treatment_col,                         # Set the treatment column\n",
    "    outcome=outcome_col,                             # Set the outcome column\n",
    "    graph=None                                       # <-- Don't pass graph here\n",
    ")\n",
    "\n",
    "# Manually assign the graph later using a safe method\n",
    "model._graph_dot = g                                 # Save DOT graph string\n",
    "model._graph = None                                  # Bypass internal graph object\n",
    "\n",
    "# Display the DOT graph with pydot manually\n",
    "(graph,) = pydot.graph_from_dot_data(g)              # Parse DOT graph\n",
    "png = graph.create_png()                             # Render to PNG\n",
    "display(Image(data=png))                             # Show in Jupyter"
   ]
  },
  {
   "cell_type": "markdown",
   "id": "60a43c47-2e85-4e83-9417-d705a1f6a73c",
   "metadata": {},
   "source": [
    "# DoWhy Step 2/4: Identify effect"
   ]
  },
  {
   "cell_type": "code",
   "execution_count": 9,
   "id": "c0c4f99f-996d-475c-a96c-a26d5307defd",
   "metadata": {},
   "outputs": [
    {
     "name": "stdout",
     "output_type": "stream",
     "text": [
      "Estimand type: EstimandType.NONPARAMETRIC_ATE\n",
      "\n",
      "### Estimand : 1\n",
      "Estimand name: backdoor\n",
      "Estimand expression:\n",
      "     d                                                               \n",
      "───────────(E[Wage_1978|No_Degree,Education_years,Married,Wage_1974])\n",
      "d[Training]                                                          \n",
      "Estimand assumption 1, Unconfoundedness: If U→{Training} and U→Wage_1978 then P(Wage_1978|Training,No_Degree,Education_years,Married,Wage_1974,U) = P(Wage_1978|Training,No_Degree,Education_years,Married,Wage_1974)\n",
      "\n",
      "### Estimand : 2\n",
      "Estimand name: iv\n",
      "No such variable(s) found!\n",
      "\n",
      "### Estimand : 3\n",
      "Estimand name: frontdoor\n",
      "No such variable(s) found!\n",
      "\n"
     ]
    }
   ],
   "source": [
    "import networkx as nx                         # NetworkX for graph structure\n",
    "from dowhy import CausalModel                 # DoWhy for causal inference\n",
    "\n",
    "# Manually construct a causal DAG using networkx.DiGraph\n",
    "nx_graph = nx.DiGraph()                       \n",
    "\n",
    "# Add all the nodes\n",
    "nx_graph.add_nodes_from([\n",
    "    \"Training\", \"No_Degree\", \"Age\", \"Education_years\", \"Married\",\n",
    "    \"Wage_1974\", \"Wage_1978\"\n",
    "])\n",
    "\n",
    "# Add all the edges according to the original DOT graph\n",
    "nx_graph.add_edges_from([\n",
    "    (\"Training\", \"Wage_1978\"),\n",
    "    \n",
    "    (\"Wage_1974\", \"Training\"),\n",
    "    (\"No_Degree\", \"Training\"),\n",
    "    (\"Education_years\", \"Training\"),\n",
    "    (\"Married\", \"Training\"),\n",
    "\n",
    "    (\"Wage_1974\", \"Wage_1978\"),\n",
    "    (\"No_Degree\", \"Wage_1978\"),\n",
    "    (\"Education_years\", \"Wage_1978\"),\n",
    "    (\"Married\", \"Wage_1978\"),\n",
    "\n",
    "    (\"Age\", \"Wage_1978\")\n",
    "])\n",
    "\n",
    "# Create the causal model directly from the networkx graph\n",
    "model = CausalModel(\n",
    "    data=dataset,                             # Your dataset (pandas DataFrame)\n",
    "    treatment='Training',                     # Treatment variable\n",
    "    outcome='Wage_1978',                      # Outcome variable\n",
    "    graph=nx_graph                            # Pre-constructed graph\n",
    ")\n",
    "\n",
    "# Identify the estimand\n",
    "identified_estimand = model.identify_effect(proceed_when_unidentifiable=True)\n",
    "print(identified_estimand)"
   ]
  },
  {
   "cell_type": "markdown",
   "id": "86e8407a-a6ca-47e4-9014-0ff81ca74acd",
   "metadata": {},
   "source": [
    "# DoWhy Step 3/4: Estimate effect"
   ]
  },
  {
   "cell_type": "code",
   "execution_count": 10,
   "id": "a29cb319-ddc2-4d29-bfa2-fa631035dbcc",
   "metadata": {},
   "outputs": [
    {
     "name": "stdout",
     "output_type": "stream",
     "text": [
      "Causal Estimate is 1629.4369006442412\n"
     ]
    }
   ],
   "source": [
    "#method = \"backdoor.propensity_score_weighting\"\n",
    "method = \"backdoor.linear_regression\"\n",
    "\n",
    "desired_effect = \"ate\"     # Define the target population for the effect (ATE = Average Treatment Effect)\n",
    "\n",
    "estimate = model.estimate_effect(                     # Estimate the causal effect using the identified estimand\n",
    "    identified_estimand,                              # Use the previously identified estimand\n",
    "    method_name=method,                               # Specify the estimation method (e.g., linear regression, propensity score)\n",
    "    target_units=desired_effect,                      # Target effect for the average population\n",
    "    method_params={\"weighting_scheme\":\"ips_weight\"}   # Additional method parameters (e.g., inverse probability weighting)\n",
    ")\n",
    "print(\"Causal Estimate is \" + str(estimate.value))"
   ]
  },
  {
   "cell_type": "markdown",
   "id": "7639d80b-f395-4521-b1a1-599471c1fa1f",
   "metadata": {},
   "source": [
    "*On average, completing the training course will cause participants to earn $1629 more, than not completing the training.* "
   ]
  },
  {
   "cell_type": "markdown",
   "id": "55f15faf-624a-467f-b3f0-b78b9c6e013c",
   "metadata": {},
   "source": [
    "# DoWhy Step 4/4: Refute effect"
   ]
  },
  {
   "cell_type": "markdown",
   "id": "14d76287-0855-4de6-9f79-35dcfce8a517",
   "metadata": {},
   "source": [
    "How confident can we be that the effect is real?"
   ]
  },
  {
   "cell_type": "code",
   "execution_count": 11,
   "id": "40293f52-0dd8-46a9-adfc-b6fa0fb2e903",
   "metadata": {},
   "outputs": [
    {
     "name": "stdout",
     "output_type": "stream",
     "text": [
      "Refute: Use a Placebo Treatment\n",
      "Estimated effect:1629.4369006442412\n",
      "New effect:-71.71094108105484\n",
      "p value:0.96\n",
      "\n"
     ]
    }
   ],
   "source": [
    "refute_placebo_treatment = model.refute_estimate(    # Run placebo test to assess robustness\n",
    "    identified_estimand,                             # Use the previously identified causal estimand\n",
    "    estimate,                                        # Use the estimated causal effect\n",
    "    method_name=\"placebo_treatment_refuter\",         # Specify placebo refuter method\n",
    "    placebo_type=\"permute\"                           # Permute treatment values to simulate random placebo\n",
    ")\n",
    "print(refute_placebo_treatment)                      # Print the results of the placebo test"
   ]
  },
  {
   "cell_type": "markdown",
   "id": "6186db4f-10be-4c3b-a513-e99e590a4fe6",
   "metadata": {},
   "source": [
    "* Bootstrap stability and significance test given permuted outcomes\n",
    "\n",
    "* Permute treatment refutation - does effect disappear?\n",
    "\n",
    "* Add unobserved confounder - is effect stable?"
   ]
  },
  {
   "cell_type": "markdown",
   "id": "3a23e1f3-96ac-468c-a45e-63162f2ead61",
   "metadata": {},
   "source": [
    "# Counterfactual outcomes\n",
    "This step is optional, but interesting. You are likely to want to know how to estimate counterfactual scenarios such as \"what would have happened if I had applied the treatment to all the samples?\". You can easily obtain these estimates from your model, using DoWhy.\n",
    "\n",
    "Note: Not all estimators support the do() operator."
   ]
  },
  {
   "cell_type": "markdown",
   "id": "8786df61-4ad1-447b-8bb9-5ac3bd96f5f3",
   "metadata": {},
   "source": [
    "*What actually happened to the study group?*"
   ]
  },
  {
   "cell_type": "code",
   "execution_count": 12,
   "id": "f7c73c12-126f-4989-941f-367b257a1916",
   "metadata": {},
   "outputs": [
    {
     "name": "stdout",
     "output_type": "stream",
     "text": [
      "Actual mean outcome [all participants]: 5300.763698561798\n",
      "Actual mean outcome [control group]: 4554.801126\n",
      "Actual mean outcome [treated group]: 6349.143530270271\n"
     ]
    }
   ],
   "source": [
    "treatment_value_treated = True                                        # Define the treated group value\n",
    "treatment_value_control = False                                       # Define the control group value\n",
    "\n",
    "dataset_copy = model._data.copy()                                     # Create a copy of the data to avoid modifying the original\n",
    "\n",
    "mean_outcome = dataset_copy.loc[:, outcome_col].mean()                # Calculate the overall mean of the outcome\n",
    "print(f'Actual mean outcome [all participants]: {mean_outcome}')      # Display overall outcome mean\n",
    "\n",
    "# Define a helper function to get the mean outcome of a specific cohort\n",
    "def get_cohort_outcome(\n",
    "    df: pd.DataFrame,                                                 # Input DataFrame\n",
    "    col_selector,                                                     # Column used to filter cohort\n",
    "    cohort_value,                                                     # Value to identify cohort group\n",
    "):\n",
    "    cohort_rows = df[df[col_selector] == cohort_value]                # Filter rows that match the cohort value\n",
    "    mean_outcome = cohort_rows.loc[:, outcome_col].mean()             # Compute mean outcome for the cohort\n",
    "    return mean_outcome                                               # Return mean outcome\n",
    "\n",
    "# Get mean outcome for control group\n",
    "mean_outcome_control = get_cohort_outcome(\n",
    "    dataset_copy,\n",
    "    treatment_col,\n",
    "    treatment_value_control,\n",
    ")\n",
    "print(f'Actual mean outcome [control group]: {mean_outcome_control}') # Display mean outcome for control\n",
    "\n",
    "# Get mean outcome for treated group\n",
    "mean_outcome_treated = get_cohort_outcome(\n",
    "    dataset_copy,\n",
    "    treatment_col,\n",
    "    treatment_value_treated,\n",
    ")\n",
    "print(f'Actual mean outcome [treated group]: {mean_outcome_treated}') # Display mean outcome for treated"
   ]
  },
  {
   "cell_type": "markdown",
   "id": "313796b3-4315-48a8-865c-9fd6499aa110",
   "metadata": {},
   "source": [
    "*The average outcome for all participants is \\\\$5,300. Those who received the training averaged \\\\$6,349, while those who did not receive the training averaged $4,554.*"
   ]
  },
  {
   "cell_type": "markdown",
   "id": "6c785f45-bdee-4669-bc43-863511e1727e",
   "metadata": {},
   "source": [
    "#### DoWhy \"do\" operator allows interventions to be applied:\n",
    "\n",
    "*What would have happened if all/none of the participants completed the training course?*"
   ]
  },
  {
   "cell_type": "code",
   "execution_count": 13,
   "id": "6ad74bad-a136-497f-984e-bfb9f91ee372",
   "metadata": {},
   "outputs": [
    {
     "name": "stdout",
     "output_type": "stream",
     "text": [
      "Mean outcome if all control [all participants]: 4605.521823503883\n",
      "Mean outcome if all treated [all participants]: 6234.958724148124\n"
     ]
    }
   ],
   "source": [
    "# \"do(x): Given a value x for the treatment, returns the \n",
    "# expected value of the outcome when the treatment is \n",
    "# intervened to a value x.\"\n",
    "\n",
    "cf_estimate_control = estimate.estimator.do(           # Perform the do-calculus operation to simulate intervention\n",
    "    x=treatment_value_control,                         # Set the treatment variable to its control value\n",
    "    data_df=dataset_copy,                              # Use a copy of the original dataset for counterfactual estimation\n",
    ")\n",
    "print(f'Mean outcome if all control [all participants]: {cf_estimate_control}')\n",
    "\n",
    "cf_estimate_treated = estimate.estimator.do(           # Simulate the outcome under treatment using do-calculus\n",
    "    x=treatment_value_treated,                         # Set the treatment variable to its treated value\n",
    "    data_df=dataset_copy,                              # Use the copied dataset to estimate counterfactuals\n",
    ")\n",
    "print(f'Mean outcome if all treated [all participants]: {cf_estimate_treated}')"
   ]
  },
  {
   "cell_type": "markdown",
   "id": "2a3c3bd0-bb03-4ff1-9999-43e2f7a2a4b7",
   "metadata": {},
   "source": [
    "*If none of participants received the training, the average outcome would be \\\\$4605. If all of participants received the training, the average outcome would be \\\\$6234.*"
   ]
  }
 ],
 "metadata": {
  "kernelspec": {
   "display_name": "Python 3 (ipykernel)",
   "language": "python",
   "name": "python3"
  },
  "language_info": {
   "codemirror_mode": {
    "name": "ipython",
    "version": 3
   },
   "file_extension": ".py",
   "mimetype": "text/x-python",
   "name": "python",
   "nbconvert_exporter": "python",
   "pygments_lexer": "ipython3",
   "version": "3.12.7"
  }
 },
 "nbformat": 4,
 "nbformat_minor": 5
}
